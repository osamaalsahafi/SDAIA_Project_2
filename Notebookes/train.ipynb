{
 "cells": [
  {
   "cell_type": "code",
   "execution_count": 1,
   "metadata": {},
   "outputs": [],
   "source": [
    "import sys\n",
    "sys.path.append('../')"
   ]
  },
  {
   "cell_type": "code",
   "execution_count": 2,
   "metadata": {},
   "outputs": [],
   "source": [
    "import os\n",
    "from utils.CustomKeypointRCNN import CustomKeypointRCNN\n",
    "from utils.COCOKeyPointsDatasetForRCNN import COCOKeyPointsDatasetForRCNN\n",
    "from torch.utils.data import DataLoader\n",
    "from torch.optim import Adam\n",
    "# import stack form torch\n",
    "import torch"
   ]
  },
  {
   "cell_type": "code",
   "execution_count": 3,
   "metadata": {},
   "outputs": [],
   "source": [
    "train_annotation_file ='.\\\\..\\\\Dataset\\\\annotations\\\\person_keypoints_train2017.json'\n",
    "train_image_folder = '.\\\\..\\\\Dataset\\\\train2017\\\\'\n",
    "val_annotation_file = '.\\\\..\\\\Dataset\\\\annotations\\\\person_keypoints_val2017.json'\n",
    "val_image_folder = '.\\\\..\\\\Dataset\\\\val2017\\\\'\n",
    "test_image_folder = '.\\\\..\\\\Dataset\\\\test2017\\\\'"
   ]
  },
  {
   "cell_type": "code",
   "execution_count": 4,
   "metadata": {},
   "outputs": [
    {
     "name": "stdout",
     "output_type": "stream",
     "text": [
      "loading annotations into memory...\n",
      "Done (t=5.33s)\n",
      "creating index...\n",
      "index created!\n",
      "loading annotations into memory...\n",
      "Done (t=0.17s)\n",
      "creating index...\n",
      "index created!\n"
     ]
    }
   ],
   "source": [
    "train_set = COCOKeyPointsDatasetForRCNN(train_annotation_file, train_image_folder)\n",
    "val_set = COCOKeyPointsDatasetForRCNN(val_annotation_file, val_image_folder)"
   ]
  },
  {
   "cell_type": "code",
   "execution_count": 5,
   "metadata": {},
   "outputs": [
    {
     "name": "stdout",
     "output_type": "stream",
     "text": [
      "Number of samples in training set: 64115\n",
      "Number of samples in validation set: 2693\n"
     ]
    }
   ],
   "source": [
    "print('Number of samples in training set: {}'.format(len(train_set)))\n",
    "print('Number of samples in validation set: {}'.format(len(val_set)))"
   ]
  },
  {
   "cell_type": "code",
   "execution_count": 6,
   "metadata": {},
   "outputs": [],
   "source": [
    "def collate_fn(batch):\n",
    "    images, targets = zip(*batch)\n",
    "\n",
    "    # Convert images to a list\n",
    "    images = list(images)\n",
    "\n",
    "    # Create the new targets list using individual tensors for each entry (not stacked)\n",
    "    new_targets = []\n",
    "    for target in targets:\n",
    "        new_target = {}\n",
    "        for k, v in target.items():\n",
    "            new_target[k] = v\n",
    "        new_targets.append(new_target)\n",
    "\n",
    "    return images, new_targets"
   ]
  },
  {
   "cell_type": "code",
   "execution_count": 7,
   "metadata": {},
   "outputs": [],
   "source": [
    "train_loader = DataLoader(train_set, batch_size=4, shuffle=True, num_workers=0, collate_fn=collate_fn)\n",
    "val_loader = DataLoader(val_set, batch_size=4, shuffle=True, num_workers=0, collate_fn=collate_fn)"
   ]
  },
  {
   "cell_type": "code",
   "execution_count": 8,
   "metadata": {},
   "outputs": [],
   "source": [
    "model = CustomKeypointRCNN(num_keypoints=17)"
   ]
  },
  {
   "cell_type": "code",
   "execution_count": 9,
   "metadata": {},
   "outputs": [],
   "source": [
    "optimizer = Adam(model.model.parameters(), lr=0.001)\n",
    "save_path = '.\\\\..\\\\models\\\\keypoint_rcnn\\\\'"
   ]
  },
  {
   "cell_type": "code",
   "execution_count": 10,
   "metadata": {},
   "outputs": [
    {
     "name": "stderr",
     "output_type": "stream",
     "text": [
      "WARNING - Starting epoch 1 of 10\n"
     ]
    },
    {
     "ename": "KeyboardInterrupt",
     "evalue": "",
     "output_type": "error",
     "traceback": [
      "\u001b[1;31m---------------------------------------------------------------------------\u001b[0m",
      "\u001b[1;31mKeyboardInterrupt\u001b[0m                         Traceback (most recent call last)",
      "\u001b[1;32mc:\\Users\\ksa_j\\Documents\\python\\SDAIA_Project\\Notebookes\\train.ipynb Cell 10\u001b[0m line \u001b[0;36m1\n\u001b[1;32m----> <a href='vscode-notebook-cell:/c%3A/Users/ksa_j/Documents/python/SDAIA_Project/Notebookes/train.ipynb#X12sZmlsZQ%3D%3D?line=0'>1</a>\u001b[0m model\u001b[39m.\u001b[39;49mtrain(train_loader, val_loader, \u001b[39m10\u001b[39;49m, optimizer, save_path)\n",
      "File \u001b[1;32mc:\\Users\\ksa_j\\Documents\\python\\SDAIA_Project\\Notebookes\\..\\utils\\CustomKeypointRCNN.py:119\u001b[0m, in \u001b[0;36mCustomKeypointRCNN.train\u001b[1;34m(self, train_loader, val_loader, num_epochs, optimizer, save_path)\u001b[0m\n\u001b[0;32m    116\u001b[0m     optimizer\u001b[39m.\u001b[39mstep()\n\u001b[0;32m    118\u001b[0m     \u001b[39m# Accumulate the batch loss into epoch loss\u001b[39;00m\n\u001b[1;32m--> 119\u001b[0m     epoch_loss \u001b[39m+\u001b[39m\u001b[39m=\u001b[39m loss\u001b[39m.\u001b[39mitem()\n\u001b[0;32m    121\u001b[0m     \u001b[39m# Logging\u001b[39;00m\n\u001b[0;32m    122\u001b[0m \u001b[39mself\u001b[39m\u001b[39m.\u001b[39m_log(\u001b[39mf\u001b[39m\u001b[39m\"\u001b[39m\u001b[39mBatch loss: \u001b[39m\u001b[39m{\u001b[39;00mloss\u001b[39m.\u001b[39mitem()\u001b[39m}\u001b[39;00m\u001b[39m\"\u001b[39m, \u001b[39m\"\u001b[39m\u001b[39mdebug\u001b[39m\u001b[39m\"\u001b[39m)\n",
      "\u001b[1;31mKeyboardInterrupt\u001b[0m: "
     ]
    }
   ],
   "source": [
    "model.train(train_loader, val_loader, 10, optimizer, save_path)"
   ]
  }
 ],
 "metadata": {
  "kernelspec": {
   "display_name": ".venv",
   "language": "python",
   "name": "python3"
  },
  "language_info": {
   "codemirror_mode": {
    "name": "ipython",
    "version": 3
   },
   "file_extension": ".py",
   "mimetype": "text/x-python",
   "name": "python",
   "nbconvert_exporter": "python",
   "pygments_lexer": "ipython3",
   "version": "3.11.5"
  },
  "orig_nbformat": 4
 },
 "nbformat": 4,
 "nbformat_minor": 2
}
